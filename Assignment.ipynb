{
 "cells": [
  {
   "cell_type": "markdown",
   "metadata": {},
   "source": [
    "# COM400 Mathematics for Computing Coursework"
   ]
  },
  {
   "cell_type": "markdown",
   "metadata": {},
   "source": [
    "## Instructions\n",
    "\n",
    "**This coursework is worth 50% of the overall module mark.**\n",
    "\n",
    "**<font color=red>Deadline: 11:59 pm, Friday 22nd November 2019</font>**\n",
    "\n",
    "**<font color=red>This is an individual assignment: University regulations on plagiarism will apply.</font>**\n",
    "  \n",
    "**The total number of marks available in this assignment is 100.**\n",
    "\n",
    "**Enter your solutions directly into this Jupyter notebook.**\n",
    "\n",
    "For each question, you should provide your answer **in the cell immediately below the question**.\n",
    "\n",
    "If a question requires a **numerical answer**, your cell should include python code carrying out the relevant calculations, and include a `print` statement to make clear what your answer to the question is. \n",
    "\n",
    "If a question requires a **graphical plot**, your cell should include python code that results in the required plot being printed to screen.\n",
    "\n",
    "For Q2A i) and Q2A iii), your answer should be provided as text in a **markdown cell**; you do not need to provide code. \\[You can change the type of a cell to markdown by following the menu route Cell -> Cell Type -> Markdown\\]"
   ]
  },
  {
   "cell_type": "markdown",
   "metadata": {},
   "source": [
    "**For example,** if a question asked : **What is the value of $\\sqrt{500}$ ?**\n",
    "\n",
    "then you should present your solution in a cell as follows:"
   ]
  },
  {
   "cell_type": "code",
   "execution_count": null,
   "metadata": {},
   "outputs": [],
   "source": [
    "# code performing your calculations\n",
    "# ...\n",
    "# ...\n",
    "ans = 500**0.5\n",
    "print(\"square root of 500 = \", ans)"
   ]
  },
  {
   "cell_type": "markdown",
   "metadata": {},
   "source": [
    "**You need to submit BOTH of the following via Blackboard before the deadline:**\n",
    "  1. **This Jupyter notebook (containing your solutions), AND**\n",
    "  2. **A pdf of this Jupyter notebook (containing your solutions).**\n",
    "  \n",
    " You can convert your Jupyter notebook to pdf by:\n",
    " - printing directly from your browser to pdf\n",
    " - if the above does not work in your browser, go to File-> Download As... -> HTML (.html). Then open the html file in Goggle chrome, and print from chrome to pdf."
   ]
  },
  {
   "cell_type": "markdown",
   "metadata": {},
   "source": [
    "## <font color = blue>Question 1: Matrices</font>\n",
    "\n",
    "### <font color = blue>Question 1 Part A</font>\n",
    "\n",
    "Three matrices $\\mathbf{A}$, $\\mathbf{B}$ and $\\mathbf{C}$ and a vector $\\mathbf{y}$ are given as\n",
    "\n",
    "$\\mathbf{A} = \\begin{bmatrix} 1 & 2 & 0 \\\\ 2 & 4 & -2 \\\\ 0 & -2 & 3 \\end{bmatrix}, \\mathbf{B} = \\begin{bmatrix} 1 & 2 & 3 \\\\ 4 & 5 & 6 \\\\ 7 & 8 & 9 \\end{bmatrix}, \\mathbf{C} = \\begin{bmatrix} 4 & 0 & 1 \\\\ 3 & -2 & 0 \\\\ 0 & 1 & 5 \\\\ -2 & 2 & 1 \\end{bmatrix}, \\mathbf{y} = \\begin{bmatrix} 3 \\\\ 1 \\\\ -4 \\end{bmatrix}$\n",
    "\n",
    "Provide solutions to each of the following questions or else explain why it is not possible:"
   ]
  },
  {
   "cell_type": "markdown",
   "metadata": {},
   "source": [
    "**i)**\tDefine $\\mathbf{A}$, $\\mathbf{B}$, $\\mathbf{C}$ and $\\mathbf{y}$ in Python, and print each to screen.\t&emsp; **\\[4 marks\\]**"
   ]
  },
  {
   "cell_type": "code",
   "execution_count": null,
   "metadata": {},
   "outputs": [],
   "source": []
  },
  {
   "cell_type": "markdown",
   "metadata": {},
   "source": [
    "**ii)** $\\mathbf{B}^T\\mathbf{A}$ &emsp; **\\[2 marks\\]**"
   ]
  },
  {
   "cell_type": "code",
   "execution_count": null,
   "metadata": {},
   "outputs": [],
   "source": []
  },
  {
   "cell_type": "markdown",
   "metadata": {},
   "source": [
    "**iii)** $\\mathbf{Cy}$ &emsp; **\\[2 marks\\]**"
   ]
  },
  {
   "cell_type": "code",
   "execution_count": null,
   "metadata": {},
   "outputs": [],
   "source": []
  },
  {
   "cell_type": "markdown",
   "metadata": {},
   "source": [
    "**iv)** $\\mathbf{AC}$ &emsp; **\\[2 marks\\]**"
   ]
  },
  {
   "cell_type": "code",
   "execution_count": null,
   "metadata": {},
   "outputs": [],
   "source": []
  },
  {
   "cell_type": "markdown",
   "metadata": {},
   "source": [
    "**v)** $\\mathbf{A}^7$ &emsp; **\\[2 marks\\]**"
   ]
  },
  {
   "cell_type": "code",
   "execution_count": null,
   "metadata": {},
   "outputs": [],
   "source": []
  },
  {
   "cell_type": "markdown",
   "metadata": {},
   "source": [
    "**vi)** $\\mathbf{A}^{-1}$ &emsp; **\\[2 marks\\]**"
   ]
  },
  {
   "cell_type": "code",
   "execution_count": null,
   "metadata": {},
   "outputs": [],
   "source": []
  },
  {
   "cell_type": "markdown",
   "metadata": {},
   "source": [
    "**vii)**  $\\mathbf{B}^{−1}$ &emsp; **\\[2 marks\\]**"
   ]
  },
  {
   "cell_type": "code",
   "execution_count": null,
   "metadata": {},
   "outputs": [],
   "source": []
  },
  {
   "cell_type": "markdown",
   "metadata": {},
   "source": [
    "**viii)** $(\\mathbf{C}^T\\mathbf{C})^{-1}$ &emsp; **\\[2 marks\\]**"
   ]
  },
  {
   "cell_type": "code",
   "execution_count": null,
   "metadata": {},
   "outputs": [],
   "source": []
  },
  {
   "cell_type": "markdown",
   "metadata": {},
   "source": [
    "**ix)** By identifying an invertible matrix from $\\mathbf{A}$, $\\mathbf{B}$ or $\\mathbf{C}$, demonstrate that the transpose of its inverse is equal to the inverse of its transpose. &emsp; **\\[2 marks\\]**\n"
   ]
  },
  {
   "cell_type": "code",
   "execution_count": null,
   "metadata": {},
   "outputs": [],
   "source": []
  },
  {
   "cell_type": "markdown",
   "metadata": {},
   "source": [
    "### <font color=blue>Question 1 Part B</font>\n",
    "\n",
    "Determine the solution to the following equations, i.e. determine the values of $w, x, y, z$. &emsp; **\\[10 marks\\]**\n",
    "\n",
    "\\begin{align}\n",
    "2w + x + 4y + 3z & = 5 \\\\\n",
    "w -2x  + 3z& = 3 \\\\\n",
    "3w + 2x -y + z & = -1\\\\\n",
    "4x - 5z & = -3\n",
    "\\end{align}\n",
    "\n",
    "Mark breakdown: \n",
    "- 5 marks for defining matrix and vector, \n",
    "- 5 marks for finding and presenting solution. "
   ]
  },
  {
   "cell_type": "code",
   "execution_count": null,
   "metadata": {},
   "outputs": [],
   "source": []
  },
  {
   "cell_type": "markdown",
   "metadata": {},
   "source": [
    "## <font color = blue>Question 2: Probability</font>\n",
    "\n",
    "### <font color = blue>Question 2 Part A</font>\n",
    "\n",
    "Suppose a coin is biased so that its probability of landing heads is 0.75. Let $X$ be the number of heads observed when the coin is tossed three times.\n",
    "\n",
    "**i)** What is the *probability mass function* for $X$? &emsp; **\\[4 marks\\]**\n",
    "\n",
    "<font color = blue>*Your answer does not require python code. Instead, enter your answer in the markdown cell below.*</font> "
   ]
  },
  {
   "cell_type": "markdown",
   "metadata": {},
   "source": []
  },
  {
   "cell_type": "markdown",
   "metadata": {},
   "source": [
    "**ii)** Plot the probability mass function for $X$.  &emsp; **\\[3 marks\\]**"
   ]
  },
  {
   "cell_type": "code",
   "execution_count": null,
   "metadata": {},
   "outputs": [],
   "source": []
  },
  {
   "cell_type": "markdown",
   "metadata": {},
   "source": [
    "**iii)** What is the *cumulative distribution function* for $X$?  &emsp; **\\[2 marks\\]**\n",
    "\n",
    "<font color = blue>*Your answer does not require python code. Instead, enter your answer in the markdown cell below.*</font>"
   ]
  },
  {
   "cell_type": "markdown",
   "metadata": {},
   "source": []
  },
  {
   "cell_type": "markdown",
   "metadata": {},
   "source": [
    "**iv)** Plot the cumulative distribution function for $X$.   &emsp; **\\[3 marks\\]**"
   ]
  },
  {
   "cell_type": "code",
   "execution_count": null,
   "metadata": {},
   "outputs": [],
   "source": []
  },
  {
   "cell_type": "markdown",
   "metadata": {},
   "source": [
    "**v)** What is the *expected value* of $X$ in the above experiment? &emsp; **\\[4 marks\\]**"
   ]
  },
  {
   "cell_type": "code",
   "execution_count": null,
   "metadata": {},
   "outputs": [],
   "source": []
  },
  {
   "cell_type": "markdown",
   "metadata": {},
   "source": [
    "**vi)** What is the *variance* of $X$ in the above experiment? &emsp; **\\[4 marks\\]**"
   ]
  },
  {
   "cell_type": "code",
   "execution_count": null,
   "metadata": {},
   "outputs": [],
   "source": []
  },
  {
   "cell_type": "markdown",
   "metadata": {},
   "source": [
    "### <font color=blue>Question 2 Part B</font>\n",
    "\n",
    "Suppose that a given coin is known to be either a fair coin or else a biased coin such as that \n",
    "described in part a). Although you do not know which it is, you assign a prior probability of 0.8 to the hypothesis that the coin is fair.\n",
    "\n",
    "**i)** The coin is tossed and lands heads. Use Bayes’ theorem to determine *the probability that the coin is fair* and the *probability that the coin is biased* given this observation.  &emsp; **\\[6 marks\\]**"
   ]
  },
  {
   "cell_type": "code",
   "execution_count": null,
   "metadata": {},
   "outputs": [],
   "source": []
  },
  {
   "cell_type": "markdown",
   "metadata": {},
   "source": [
    "**ii)**\tThe coin is then tossed nine more times and lands heads each time. \n",
    "\n",
    "Calculate *the probability that the coin is fair* and *the probability that it is biased* after each observation. Print these probabilities to screen. &emsp; **\\[8 marks\\]**\n",
    "  \n",
    "<font color=blue>For full marks you should use a loop and arrays for performing the calculations.</font>"
   ]
  },
  {
   "cell_type": "code",
   "execution_count": null,
   "metadata": {},
   "outputs": [],
   "source": []
  },
  {
   "cell_type": "markdown",
   "metadata": {},
   "source": [
    "**iii)** **Plot your results** from part ii) to show how the probability of the coin being fair and the probability of the coin being biased changes with the value of $X$ (number of Heads observed).  &emsp; **\\[4 marks\\]**"
   ]
  },
  {
   "cell_type": "code",
   "execution_count": null,
   "metadata": {},
   "outputs": [],
   "source": []
  },
  {
   "cell_type": "markdown",
   "metadata": {},
   "source": [
    "**iv)** **How many heads need to be observed (in total)** before you conclude that the coin is more likely to be biased than fair? What is the probability the coin is biased at this stage?  &emsp; **\\[2 marks\\]**\n",
    "\n",
    "Enter your answers in a print statement as follows:\n",
    "\n",
    "`print(\"After {} heads it is more likely the coin is biased. The probability it is biased at this stage is {:3.3f}\",n_heads,p_bias)`\n",
    "\n",
    "where you provide values for the variables `n_heads` and `p_bias`"
   ]
  },
  {
   "cell_type": "code",
   "execution_count": null,
   "metadata": {},
   "outputs": [],
   "source": []
  },
  {
   "cell_type": "markdown",
   "metadata": {},
   "source": [
    "## <font color=blue>Question 3: Statistics</font>\n",
    "\n",
    "For this question you will need to use the file `movehubqualityoflife.csv`, which contains data relating to the quality of life in various cities across the world. You can download the file from here:\n",
    "https://www.kaggle.com/blitzr/movehub-city-rankings \n",
    "\n",
    "\n",
    "**i)**\tLoad the dataset, display the first 10 entries in it and provide summary information including the mean, standard deviation and maximum and minimum for each variable in the dataset. &emsp; **\\[6 marks\\]**\n",
    "\n",
    "Mark breakdown:\n",
    "- 2 marks for loading dataset\n",
    "- 2 marks for displaying 10 entries \n",
    "- 2 marks for summary stats"
   ]
  },
  {
   "cell_type": "code",
   "execution_count": null,
   "metadata": {},
   "outputs": [],
   "source": []
  },
  {
   "cell_type": "markdown",
   "metadata": {},
   "source": [
    "**ii)**\tDisplay information about the five cities with the highest Movehub Ratings and the five cities with the lowest Health Care ratings.  &emsp; **\\[4 marks\\]**"
   ]
  },
  {
   "cell_type": "code",
   "execution_count": null,
   "metadata": {},
   "outputs": [],
   "source": []
  },
  {
   "cell_type": "markdown",
   "metadata": {},
   "source": [
    "**iii)**\tDisplay boxplots for all the variables in the dataset.  &emsp; **\\[6 marks\\]**"
   ]
  },
  {
   "cell_type": "code",
   "execution_count": null,
   "metadata": {},
   "outputs": [],
   "source": []
  },
  {
   "cell_type": "markdown",
   "metadata": {},
   "source": [
    "**iv)**\tDetermine correlation coefficients between all pairs of variables and present pair plots for the Movehub Rating and the two variables most strongly correlated with it.  &emsp; **\\[4 marks\\]**"
   ]
  },
  {
   "cell_type": "code",
   "execution_count": null,
   "metadata": {},
   "outputs": [],
   "source": []
  },
  {
   "cell_type": "markdown",
   "metadata": {},
   "source": [
    "**v)**\tLet $Y$ represent the Movehub rating and $X$ the variable that is most strongly correlated with it. Use linear regression to find a line of best fit between $X$ and $Y$. You should present a scatterplot of $X$ and $Y$ along with the line of best fit.   &emsp; **\\[10 marks\\]**\n",
    "\n",
    "<font color=blue>For full marks you should also present the coefficients for the regression line in the form $Y = aX + b$ and the $R^2$ value to indicate how well the line fits the data.</font>\n",
    "\n",
    "Mark breakdown: \n",
    "- 5 for calcuation of coefficients (including $R$)\n",
    "- 3 for figure\n",
    "- 2 for displaying equation and $R^2$"
   ]
  },
  {
   "cell_type": "code",
   "execution_count": null,
   "metadata": {},
   "outputs": [],
   "source": []
  }
 ],
 "metadata": {
  "kernelspec": {
   "display_name": "Python 3",
   "language": "python",
   "name": "python3"
  },
  "language_info": {
   "codemirror_mode": {
    "name": "ipython",
    "version": 3
   },
   "file_extension": ".py",
   "mimetype": "text/x-python",
   "name": "python",
   "nbconvert_exporter": "python",
   "pygments_lexer": "ipython3",
   "version": "3.7.3"
  },
  "toc": {
   "colors": {
    "hover_highlight": "#DAA520",
    "navigate_num": "#000000",
    "navigate_text": "#333333",
    "running_highlight": "#FF0000",
    "selected_highlight": "#FFD700",
    "sidebar_border": "#EEEEEE",
    "wrapper_background": "#FFFFFF"
   },
   "moveMenuLeft": true,
   "nav_menu": {
    "height": "160.56px",
    "width": "252px"
   },
   "navigate_menu": true,
   "number_sections": false,
   "sideBar": true,
   "threshold": 4,
   "toc_cell": false,
   "toc_section_display": "block",
   "toc_window_display": false,
   "widenNotebook": false
  }
 },
 "nbformat": 4,
 "nbformat_minor": 2
}
